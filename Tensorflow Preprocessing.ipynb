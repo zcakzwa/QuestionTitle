{
 "cells": [
  {
   "cell_type": "markdown",
   "metadata": {},
   "source": [
    "# Environment Setup"
   ]
  },
  {
   "cell_type": "code",
   "execution_count": 1,
   "metadata": {
    "collapsed": false
   },
   "outputs": [],
   "source": [
    "import time\n",
    "import numpy as np\n",
    "import pandas as pd\n",
    "#pd.options.display.max_columns = None\n",
    "#pd.options.display.mpl_style = 'default'\n",
    "\n",
    "import re\n",
    "import os\n",
    "import sys\n",
    "import matplotlib.pyplot as plt\n",
    "%matplotlib inline\n",
    "import seaborn as sns\n",
    "import tensorflow as tf\n",
    "\n",
    "from scipy import sparse"
   ]
  },
  {
   "cell_type": "markdown",
   "metadata": {},
   "source": [
    "## Total Running Time: Approximately 15 mins "
   ]
  },
  {
   "cell_type": "markdown",
   "metadata": {},
   "source": [
    "## Import raw data\n",
    "* Dataset link: https://biendata.com/competition/zhihu/data/"
   ]
  },
  {
   "cell_type": "code",
   "execution_count": 2,
   "metadata": {
    "collapsed": false
   },
   "outputs": [
    {
     "name": "stdout",
     "output_type": "stream",
     "text": [
      "loading time:  50.23342728614807\n"
     ]
    }
   ],
   "source": [
    "t_0 = time.time()\n",
    "\n",
    "df_train = pd.read_csv('data\\question_train_set.txt', sep=\"\\t\", header = None, names = ['question_id', 'title_char_id','title_word_id','desc_char_id','desc_word_id'])\n",
    "df_train_topic = pd.read_csv('data\\question_topic_train_set.txt', sep=\"\\t\", header = None, names=['question_id', 'topic'])\n",
    "\n",
    "df_train = pd.merge(df_train, df_train_topic, how='left', on='question_id')\n",
    "# some of the title char/word are empty， here I removed all the questions which have NAN word title\n",
    "#df_train = df_train[df_train['title_word_id'].notnull()]\n",
    "df_eval = pd.read_csv('data\\question_eval_set.txt', sep=\"\\t\", header = None, names = ['question_id', 'title_char_id','title_word_id','desc_char_id','desc_word_id'])\n",
    "\n",
    "print('loading time: ',time.time() - t_0)"
   ]
  },
  {
   "cell_type": "code",
   "execution_count": 3,
   "metadata": {
    "collapsed": false
   },
   "outputs": [
    {
     "name": "stdout",
     "output_type": "stream",
     "text": [
      "time:  50.858458042144775\n"
     ]
    }
   ],
   "source": [
    "t_0 = time.time()\n",
    "\n",
    "df_train['title_char_len'] = df_train['title_char_id'].map(lambda x: len(x.split(',')) if type(x) != float else 0)\n",
    "df_train['title_word_len'] = df_train['title_word_id'].map(lambda x: len(x.split(',')) if type(x) != float else 0)\n",
    "df_train['desc_char_len'] = df_train['desc_char_id'].map(lambda x: len(x.split(',')) if type(x) != float else 0)\n",
    "df_train['desc_word_len'] = df_train['desc_word_id'].map(lambda x: len(x.split(',')) if type(x) != float else 0)\n",
    "\n",
    "df_eval['title_char_len'] = df_eval['title_char_id'].map(lambda x: len(x.split(',')) if type(x) != float else 0)\n",
    "df_eval['title_word_len'] = df_eval['title_word_id'].map(lambda x: len(x.split(',')) if type(x) != float else 0)\n",
    "df_eval['desc_char_len'] = df_eval['desc_char_id'].map(lambda x: len(x.split(',')) if type(x) != float else 0)\n",
    "df_eval['desc_word_len'] = df_eval['desc_word_id'].map(lambda x: len(x.split(',')) if type(x) != float else 0)\n",
    "\n",
    "print('time: ',time.time() - t_0)"
   ]
  },
  {
   "cell_type": "code",
   "execution_count": 5,
   "metadata": {
    "collapsed": false
   },
   "outputs": [],
   "source": [
    "train_length = [df_train['title_char_len'].values, df_train['title_word_len'].values,\\\n",
    "                df_train['desc_char_len'].values, df_train['desc_word_len'].values]\n",
    "\n",
    "eval_length = [df_eval['title_char_len'].values, df_eval['title_word_len'].values,\\\n",
    "                df_eval['desc_char_len'].values, df_eval['desc_word_len'].values]\n",
    "\n",
    "np.save('preprocessed_data/train_length', train_length)\n",
    "np.save('preprocessed_data/test_length', eval_length)"
   ]
  },
  {
   "cell_type": "markdown",
   "metadata": {},
   "source": [
    "### Preprocessing data"
   ]
  },
  {
   "cell_type": "code",
   "execution_count": 9,
   "metadata": {
    "collapsed": true
   },
   "outputs": [],
   "source": [
    "def data_transform(file):\n",
    "    data = []\n",
    "    length = len(file)\n",
    "    title_char = file['title_char_id'].values\n",
    "    title_word = file['title_word_id'].values\n",
    "    for i in range(length):\n",
    "        instance = {\"title_char\": title_char[i], \"title_word\": title_word[i]}\n",
    "        data.append(instance)\n",
    "    return data"
   ]
  },
  {
   "cell_type": "code",
   "execution_count": 10,
   "metadata": {
    "collapsed": false
   },
   "outputs": [],
   "source": [
    "train = data_transform(df_train)\n",
    "test = data_transform(df_eval)"
   ]
  },
  {
   "cell_type": "code",
   "execution_count": 11,
   "metadata": {
    "collapsed": false
   },
   "outputs": [],
   "source": [
    "def title_word_pipeline(data, max_sent_len=35):\n",
    "    \n",
    "    out_sentences = np.full([len(data),  max_sent_len], 0, dtype=np.int32)\n",
    "    for i,instance in enumerate(data):\n",
    "        sentence = instance['title_word']\n",
    "        if pd.isnull(sentence):\n",
    "            sents = [0]\n",
    "        else:\n",
    "            sents=  re.sub(\"[w]\", \"\", sentence)\n",
    "            sents = eval(sents) \n",
    "            if type(sents) == int: \n",
    "                sents = [sents]\n",
    "        if len(sents) <= max_sent_len:\n",
    "            out_sentences[i, 0:len(sents)] = sents\n",
    "        else:\n",
    "            out_sentences[i, 0: max_sent_len] = sents[:max_sent_len]\n",
    "\n",
    "    return out_sentences\n",
    "\n",
    "def title_char_pipeline(data, max_sent_len=50):\n",
    "    \n",
    "    out_sentences = np.full([len(data),  max_sent_len], 0, dtype=np.int32)\n",
    "    for i,instance in enumerate(data):\n",
    "        sentence = instance['title_char']\n",
    "        if pd.isnull(sentence):\n",
    "            sents = [0]\n",
    "        else:\n",
    "            sents=  re.sub(\"[c]\", \"\", sentence)\n",
    "            sents = eval(sents) \n",
    "            if type(sents) == int: \n",
    "                sents = [sents]\n",
    "        if len(sents) <= max_sent_len:\n",
    "            out_sentences[i, 0:len(sents)] = sents\n",
    "        else:\n",
    "            out_sentences[i, 0: max_sent_len] = sents[:max_sent_len]\n",
    "\n",
    "    return out_sentences"
   ]
  },
  {
   "cell_type": "code",
   "execution_count": 12,
   "metadata": {
    "collapsed": false,
    "scrolled": true
   },
   "outputs": [
    {
     "name": "stdout",
     "output_type": "stream",
     "text": [
      "loading time:  243.6631543636322\n"
     ]
    }
   ],
   "source": [
    "t_0 = time.time()\n",
    "\n",
    "train_title_word = title_word_pipeline(train)\n",
    "train_title_char = title_char_pipeline(train)\n",
    "\n",
    "print('loading time: ',time.time() - t_0)"
   ]
  },
  {
   "cell_type": "code",
   "execution_count": 13,
   "metadata": {
    "collapsed": false
   },
   "outputs": [
    {
     "name": "stdout",
     "output_type": "stream",
     "text": [
      "loading time:  17.917680263519287\n"
     ]
    }
   ],
   "source": [
    "t_0 = time.time()\n",
    "\n",
    "test_title_word = title_word_pipeline(test)\n",
    "test_title_char = title_char_pipeline(test)\n",
    "\n",
    "print('loading time: ',time.time() - t_0)"
   ]
  },
  {
   "cell_type": "code",
   "execution_count": 14,
   "metadata": {
    "collapsed": true
   },
   "outputs": [],
   "source": [
    "np.save('preprocessed_data/train_title_char', train_title_char)\n",
    "np.save('preprocessed_data/train_title_word', train_title_word)\n",
    "np.save('preprocessed_data/test_title_char', test_title_char)\n",
    "np.save('preprocessed_data/test_title_word', test_title_word)"
   ]
  },
  {
   "cell_type": "code",
   "execution_count": 21,
   "metadata": {
    "collapsed": false
   },
   "outputs": [
    {
     "data": {
      "text/plain": [
       "(18377, 1138582)"
      ]
     },
     "execution_count": 21,
     "metadata": {},
     "output_type": "execute_result"
    }
   ],
   "source": [
    "np.max([np.amax(train_title_char),np.amax(test_title_char)]),np.max([np.amax(train_title_word),np.amax(test_title_word)])"
   ]
  },
  {
   "cell_type": "markdown",
   "metadata": {},
   "source": [
    "### Char/Word Embedding"
   ]
  },
  {
   "cell_type": "code",
   "execution_count": 19,
   "metadata": {
    "collapsed": false
   },
   "outputs": [
    {
     "name": "stdout",
     "output_type": "stream",
     "text": [
      "loading time:  1.6255218982696533\n"
     ]
    }
   ],
   "source": [
    "import collections\n",
    "import operator\n",
    "import random\n",
    "\n",
    "t_0 = time.time()\n",
    "word_dict= collections.defaultdict(list)\n",
    "file= open('data/char_embedding.txt', 'r', encoding='utf-8')\n",
    "\n",
    "for line in file:\n",
    "    line = line.rstrip().split(' ')\n",
    "    word_dict[line[0]]=[float(i) for i in line[1:]]\n",
    "word_dict=dict(word_dict)\n",
    "\n",
    "vocab_size = np.max([np.amax(train_title_char),np.amax(test_title_char)]) + 1\n",
    "\n",
    "embedding_list=[]\n",
    "OOV_vector  = [random.uniform(-0.5, 0.5) for i in range(256)]\n",
    "for i in range(vocab_size):\n",
    "    if i == 0:\n",
    "        embedding_list.append(np.array([0 for i in range(256)], dtype='f'))\n",
    "    elif 'c%d' % i in word_dict:\n",
    "        embedding_list.append(word_dict['c%d' % i])\n",
    "    else:\n",
    "        embedding_list.append(OOV_vector)\n",
    "        \n",
    "C = np.array(embedding_list)\n",
    "print('loading time: ',time.time() - t_0)"
   ]
  },
  {
   "cell_type": "code",
   "execution_count": 22,
   "metadata": {
    "collapsed": false
   },
   "outputs": [
    {
     "data": {
      "text/plain": [
       "(18378, 256)"
      ]
     },
     "execution_count": 22,
     "metadata": {},
     "output_type": "execute_result"
    }
   ],
   "source": [
    "C .shape"
   ]
  },
  {
   "cell_type": "code",
   "execution_count": 12,
   "metadata": {
    "collapsed": false
   },
   "outputs": [
    {
     "name": "stdout",
     "output_type": "stream",
     "text": [
      "loading time:  54.12321472167969\n"
     ]
    }
   ],
   "source": [
    "t_0 = time.time()\n",
    "word_dict= collections.defaultdict(list)\n",
    "file= open('data/word_embedding.txt', 'r', encoding='utf-8')\n",
    "\n",
    "for line in file:\n",
    "    line = line.rstrip().split(' ')\n",
    "    word_dict[line[0]]=[float(i) for i in line[1:]]\n",
    "word_dict=dict(word_dict)\n",
    "\n",
    "\n",
    "vocab_size = np.max([np.amax(train_title_word),np.amax(test_title_word)]) + 1\n",
    "\n",
    "embedding_list=[]\n",
    "OOV_vector  = [random.uniform(-0.5, 0.5) for i in range(256)]\n",
    "for i in range(vocab_size):\n",
    "    if i == 0:\n",
    "        embedding_list.append(np.array([0 for i in range(256)], dtype='f'))\n",
    "    elif 'w%d' % i in word_dict:\n",
    "        embedding_list.append(word_dict['w%d' % i])\n",
    "    else:\n",
    "        embedding_list.append(OOV_vector)\n",
    "       \n",
    "W = np.array(embedding_list)\n",
    "print('loading time: ',time.time() - t_0)"
   ]
  },
  {
   "cell_type": "code",
   "execution_count": 25,
   "metadata": {
    "collapsed": false
   },
   "outputs": [],
   "source": [
    "np.save('preprocessed_data/word_embedding', W)\n",
    "np.save('preprocessed_data/char_embedding', C)"
   ]
  },
  {
   "cell_type": "markdown",
   "metadata": {},
   "source": [
    "### Topics Encoder"
   ]
  },
  {
   "cell_type": "code",
   "execution_count": 9,
   "metadata": {
    "collapsed": false
   },
   "outputs": [],
   "source": [
    "topic = pd.read_csv('data/topic.txt', sep=\"\\t\", header = None,\\\n",
    "                    names=['topic_id', 'parents_id','title_char_id','title_word_id','desc_char_id','desc_word_id'])"
   ]
  },
  {
   "cell_type": "markdown",
   "metadata": {},
   "source": [
    "* transform topics as a list of list"
   ]
  },
  {
   "cell_type": "code",
   "execution_count": 4,
   "metadata": {
    "collapsed": false
   },
   "outputs": [
    {
     "name": "stdout",
     "output_type": "stream",
     "text": [
      "loading time:  33.20693302154541\n"
     ]
    }
   ],
   "source": [
    "t_0 = time.time()\n",
    "\n",
    "df_train_topic['topic'] = df_train_topic['topic'].map(lambda x: eval(x))\n",
    "df_train_topic['topic'] = df_train_topic['topic'].map(lambda x: [x] if type(x) is int else list(x))\n",
    "\n",
    "train_topics = df_train_topic['topic'].values\n",
    "\n",
    "print('loading time: ',time.time() - t_0)"
   ]
  },
  {
   "cell_type": "markdown",
   "metadata": {},
   "source": [
    "* encoding original labels (too large for multilabel binarizer) into smaller integer"
   ]
  },
  {
   "cell_type": "code",
   "execution_count": 5,
   "metadata": {
    "collapsed": false
   },
   "outputs": [
    {
     "data": {
      "text/plain": [
       "LabelEncoder()"
      ]
     },
     "execution_count": 5,
     "metadata": {},
     "output_type": "execute_result"
    }
   ],
   "source": [
    "from sklearn.preprocessing import LabelEncoder\n",
    "\n",
    "label_encoder = LabelEncoder()\n",
    "label_encoder.fit(list(topic['topic_id'].values))"
   ]
  },
  {
   "cell_type": "code",
   "execution_count": 6,
   "metadata": {
    "collapsed": false
   },
   "outputs": [
    {
     "name": "stdout",
     "output_type": "stream",
     "text": [
      "loading time:  210.7425651550293\n"
     ]
    }
   ],
   "source": [
    "t_0 = time.time()\n",
    "\n",
    "encoded_labels = [list(label_encoder.transform(i)) for i in train_topics]\n",
    "\n",
    "print('loading time: ',time.time() - t_0)"
   ]
  },
  {
   "cell_type": "code",
   "execution_count": 7,
   "metadata": {
    "collapsed": false
   },
   "outputs": [
    {
     "data": {
      "text/plain": [
       "True"
      ]
     },
     "execution_count": 7,
     "metadata": {},
     "output_type": "execute_result"
    }
   ],
   "source": [
    "label_encoder.classes_[1401] == df_train_topic['topic'][0][1]"
   ]
  },
  {
   "cell_type": "code",
   "execution_count": 77,
   "metadata": {
    "collapsed": false
   },
   "outputs": [],
   "source": [
    "label_dictionary = {key: value for (key, value) in enumerate(label_encoder.classes_)}\n",
    "\n",
    "np.save('preprocessed_data/label_dictionary', label_dictionary) "
   ]
  },
  {
   "cell_type": "markdown",
   "metadata": {},
   "source": [
    "* encoding the multi-labels"
   ]
  },
  {
   "cell_type": "code",
   "execution_count": 8,
   "metadata": {
    "collapsed": false
   },
   "outputs": [
    {
     "data": {
      "text/plain": [
       "MultiLabelBinarizer(classes=None, sparse_output=True)"
      ]
     },
     "execution_count": 8,
     "metadata": {},
     "output_type": "execute_result"
    }
   ],
   "source": [
    "from sklearn.preprocessing import MultiLabelBinarizer\n",
    "\n",
    "multilabel_encoder = MultiLabelBinarizer(sparse_output= True)\n",
    "multilabel_encoder.fit(encoded_labels)"
   ]
  },
  {
   "cell_type": "code",
   "execution_count": 28,
   "metadata": {
    "collapsed": false
   },
   "outputs": [],
   "source": [
    "final_labels = multilabel_encoder.transform(encoded_labels)"
   ]
  },
  {
   "cell_type": "code",
   "execution_count": 33,
   "metadata": {
    "collapsed": true
   },
   "outputs": [],
   "source": [
    "np.save('preprocessed_data/labels', final_labels)"
   ]
  },
  {
   "cell_type": "markdown",
   "metadata": {},
   "source": [
    "* check if labels match"
   ]
  },
  {
   "cell_type": "code",
   "execution_count": 75,
   "metadata": {
    "collapsed": false
   },
   "outputs": [
    {
     "name": "stdout",
     "output_type": "stream",
     "text": [
      "4195795391451929480\n",
      "4351331710881888756\n"
     ]
    }
   ],
   "source": [
    "checking_index = 5\n",
    "\n",
    "for i, j in enumerate(list(final_labels[checking_index].toarray()[0])):\n",
    "    if j == 1:\n",
    "        print(label_dictionary [i])"
   ]
  },
  {
   "cell_type": "code",
   "execution_count": 76,
   "metadata": {
    "collapsed": false
   },
   "outputs": [
    {
     "data": {
      "text/plain": [
       "[4351331710881888756, 4195795391451929480]"
      ]
     },
     "execution_count": 76,
     "metadata": {},
     "output_type": "execute_result"
    }
   ],
   "source": [
    "df_train_topic['topic'][checking_index]"
   ]
  },
  {
   "cell_type": "code",
   "execution_count": 103,
   "metadata": {
    "collapsed": false
   },
   "outputs": [
    {
     "data": {
      "text/plain": [
       "14999.835"
      ]
     },
     "execution_count": 103,
     "metadata": {},
     "output_type": "execute_result"
    }
   ],
   "source": [
    "train_title_char.shape[0]/200"
   ]
  },
  {
   "cell_type": "code",
   "execution_count": null,
   "metadata": {
    "collapsed": true
   },
   "outputs": [],
   "source": []
  }
 ],
 "metadata": {
  "kernelspec": {
   "display_name": "tensorflow",
   "language": "python",
   "name": "tensorflow"
  },
  "language_info": {
   "codemirror_mode": {
    "name": "ipython",
    "version": 3
   },
   "file_extension": ".py",
   "mimetype": "text/x-python",
   "name": "python",
   "nbconvert_exporter": "python",
   "pygments_lexer": "ipython3",
   "version": "3.5.2"
  }
 },
 "nbformat": 4,
 "nbformat_minor": 2
}
